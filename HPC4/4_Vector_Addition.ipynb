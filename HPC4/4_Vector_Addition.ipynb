{
  "cells": [
    {
      "cell_type": "code",
      "execution_count": 15,
      "metadata": {
        "colab": {
          "base_uri": "https://localhost:8080/"
        },
        "id": "PLwiefGb-C4d",
        "outputId": "e35b765f-f595-45bd-abc8-f8faf7a942a1"
      },
      "outputs": [
        {
          "name": "stdout",
          "output_type": "stream",
          "text": [
            "Looking in indexes: https://pypi.org/simple, https://us-python.pkg.dev/colab-wheels/public/simple/\n",
            "Collecting git+https://github.com/andreinechaev/nvcc4jupyter.git\n",
            "  Cloning https://github.com/andreinechaev/nvcc4jupyter.git to /tmp/pip-req-build-yph6ykrv\n",
            "  Running command git clone --filter=blob:none --quiet https://github.com/andreinechaev/nvcc4jupyter.git /tmp/pip-req-build-yph6ykrv\n",
            "  Resolved https://github.com/andreinechaev/nvcc4jupyter.git to commit aac710a35f52bb78ab34d2e52517237941399eff\n",
            "  Preparing metadata (setup.py) ... \u001b[?25l\u001b[?25hdone\n",
            "The nvcc_plugin extension is already loaded. To reload it, use:\n",
            "  %reload_ext nvcc_plugin\n"
          ]
        }
      ],
      "source": [
        "# Set up CUDA\n",
        "#First Change runtime to GPU and run this cell\n",
        "!pip install git+https://github.com/afnan47/cuda.git\n",
        "%load_ext nvcc_plugin\n"
      ]
    },
    {
      "cell_type": "code",
      "execution_count": 16,
      "metadata": {
        "colab": {
          "base_uri": "https://localhost:8080/"
        },
        "id": "Ebqsk_UBG-be",
        "outputId": "5b106fc5-cda4-4c9d-ac84-8db18015bc2c"
      },
      "outputs": [
        {
          "name": "stdout",
          "output_type": "stream",
          "text": [
            "final result: 1.000000\n",
            "\n"
          ]
        }
      ],
      "source": [
        "%%cu\n",
        "// WARNING: DO NOT COPY THIS CODE, INSTEAD DOWNLOAD IT TO AVOID ERRORS.\n",
        "#include <iostream>\n",
        "using namespace std;\n",
        "\n",
        "__global__\n",
        "void add(int* A, int* B, int* C, int size) {\n",
        "    int tid = blockIdx.x * blockDim.x + threadIdx.x;\n",
        "\n",
        "    if (tid < size) {\n",
        "        C[tid] = A[tid] + B[tid];\n",
        "    }\n",
        "}\n",
        "\n",
        "\n",
        "void initialize(int* vector, int size) {\n",
        "    for (int i = 0; i < size; i++) {\n",
        "        vector[i] = rand() % 10;\n",
        "    }\n",
        "}\n",
        "\n",
        "void print(int* vector, int size) {\n",
        "    for (int i = 0; i < size; i++) {\n",
        "        cout << vector[i] << \" \";\n",
        "    }\n",
        "    cout << endl;\n",
        "}\n",
        "\n",
        "int main() {\n",
        "    int N = 4;\n",
        "    int* A, * B, * C;\n",
        "\n",
        "    int vectorSize = N;\n",
        "    size_t vectorBytes = vectorSize * sizeof(int);\n",
        "\n",
        "    A = new int[vectorSize];\n",
        "    B = new int[vectorSize];\n",
        "    C = new int[vectorSize];\n",
        "\n",
        "    initialize(A, vectorSize);\n",
        "    initialize(B, vectorSize);\n",
        "\n",
        "    cout << \"Vector A: \";\n",
        "    print(A, N);\n",
        "    cout << \"Vector B: \";\n",
        "    print(B, N);\n",
        "\n",
        "    int* X, * Y, * Z;\n",
        "    cudaMalloc(&X, vectorBytes);\n",
        "    cudaMalloc(&Y, vectorBytes);\n",
        "    cudaMalloc(&Z, vectorBytes);\n",
        "\n",
        "    cudaMemcpy(X, A, vectorBytes, cudaMemcpyHostToDevice);\n",
        "    cudaMemcpy(Y, B, vectorBytes, cudaMemcpyHostToDevice);\n",
        "\n",
        "    int threadsPerBlock = 256;\n",
        "    int blocksPerGrid = (N + threadsPerBlock - 1) / threadsPerBlock;\n",
        "\n",
        "    add<<<blocksPerGrid, threadsPerBlock>>>(X, Y, Z, N);\n",
        "\n",
        "    cudaMemcpy(C, Z, vectorBytes, cudaMemcpyDeviceToHost);\n",
        "\n",
        "    cout << \"Addition: \";\n",
        "    print(C, N);\n",
        "\n",
        "    delete[] A;\n",
        "    delete[] B;\n",
        "    delete[] C;\n",
        "\n",
        "    cudaFree(X);\n",
        "    cudaFree(Y);\n",
        "    cudaFree(Z);\n",
        "\n",
        "    return 0;\n",
        "}\n"
      ]
    },
    {
      "cell_type": "code",
      "execution_count": null,
      "metadata": {
        "id": "6eOwFLYHJAJe"
      },
      "outputs": [],
      "source": [
        "# This CUDA C++ code performs vector addition using GPU parallelism. Let's go through the code step by step:\n",
        "\n",
        "# 1. **Kernel Function (`add`)**:\n",
        "#    - The kernel function is responsible for adding corresponding elements of two input vectors `A` and `B` and storing the result in vector `C`.\n",
        "#    - Each thread is assigned a unique thread ID (`tid`) calculated based on the block index and thread index.\n",
        "#    - Each thread performs the addition operation for one element of the vectors, checking first if the thread ID is within the bounds of the vectors.\n",
        "\n",
        "# 2. **Helper Functions (`initialize` and `print`)**:\n",
        "#    - `initialize`: This function initializes a vector with random values between 0 and 9. It takes a pointer to the vector and its size as arguments.\n",
        "#    - `print`: This function prints the elements of a vector. It takes a pointer to the vector and its size as arguments.\n",
        "\n",
        "# 3. **Main Function**:\n",
        "#    - The main function initializes vectors `A` and `B`, prints them, and then performs vector addition using CUDA.\n",
        "#    - Vectors `A` and `B` are initialized with random values using the `initialize` function and printed using the `print` function.\n",
        "#    - Device memory (`X`, `Y`, and `Z`) is allocated using `cudaMalloc` for vectors `A`, `B`, and `C` respectively.\n",
        "#    - The values of vectors `A` and `B` are copied from host to device memory using `cudaMemcpy`.\n",
        "#    - The number of threads per block (`threadsPerBlock`) is set to 256, and the number of blocks per grid (`blocksPerGrid`) is calculated based on the size of the vectors.\n",
        "#    - The kernel function `add` is launched with the specified number of blocks and threads per block.\n",
        "#    - The result vector `C` is copied back from device to host memory using `cudaMemcpy` and printed.\n",
        "#    - Finally, memory allocated on the device is freed using `cudaFree`.\n",
        "\n",
        "# 4. **Output**:\n",
        "#    - The code prints vectors `A` and `B` before addition, and the result vector `C` after addition.\n",
        "\n",
        "# 5. **Memory Management**:\n",
        "#    - Memory allocated on the device (`X`, `Y`, and `Z`) is freed at the end of the main function to release GPU resources.\n",
        "\n",
        "# This code demonstrates how to leverage GPU parallelism using CUDA to perform vector addition, which can significantly accelerate computation for large vectors compared to sequential CPU-based computation."
      ]
    }
  ],
  "metadata": {
    "accelerator": "GPU",
    "colab": {
      "gpuType": "T4",
      "provenance": []
    },
    "gpuClass": "standard",
    "kernelspec": {
      "display_name": "Python 3",
      "name": "python3"
    },
    "language_info": {
      "name": "python"
    }
  },
  "nbformat": 4,
  "nbformat_minor": 0
}
